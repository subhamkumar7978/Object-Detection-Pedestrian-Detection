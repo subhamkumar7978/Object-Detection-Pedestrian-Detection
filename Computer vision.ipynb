{
 "cells": [
  {
   "cell_type": "raw",
   "id": "507a2dc4",
   "metadata": {},
   "source": [
    "####  Opencv installation can be done in two ways\n",
    "       \n",
    "        . conda install -c conda-forge opencv\n",
    "        . pip install opencv-python"
   ]
  },
  {
   "cell_type": "code",
   "execution_count": 2,
   "id": "08db89bf",
   "metadata": {},
   "outputs": [],
   "source": [
    "import cv2\n",
    "import numpy as np"
   ]
  },
  {
   "cell_type": "markdown",
   "id": "d50a76d2",
   "metadata": {},
   "source": [
    "# Load/Read image"
   ]
  },
  {
   "cell_type": "code",
   "execution_count": 3,
   "id": "9168d9f8",
   "metadata": {},
   "outputs": [],
   "source": [
    "# Load an image using 'imread' specifying the path tonimage\n",
    "img = cv2.imread(r\"C:\\Users\\subha\\Downloads\\Modi.jpg\",1)"
   ]
  },
  {
   "cell_type": "markdown",
   "id": "c4c60ee1",
   "metadata": {},
   "source": [
    "###  Let's take a closer look at how images are stored"
   ]
  },
  {
   "cell_type": "code",
   "execution_count": 4,
   "id": "675fbc28",
   "metadata": {},
   "outputs": [
    {
     "name": "stdout",
     "output_type": "stream",
     "text": [
      "[[[255 255 255]\n",
      "  [255 255 255]\n",
      "  [255 255 255]\n",
      "  ...\n",
      "  [255 255 255]\n",
      "  [255 255 255]\n",
      "  [255 255 255]]\n",
      "\n",
      " [[255 255 255]\n",
      "  [255 255 255]\n",
      "  [255 255 255]\n",
      "  ...\n",
      "  [255 255 255]\n",
      "  [255 255 255]\n",
      "  [255 255 255]]\n",
      "\n",
      " [[255 255 255]\n",
      "  [255 255 255]\n",
      "  [255 255 255]\n",
      "  ...\n",
      "  [255 255 255]\n",
      "  [255 255 255]\n",
      "  [255 255 255]]\n",
      "\n",
      " ...\n",
      "\n",
      " [[255 255 255]\n",
      "  [255 255 255]\n",
      "  [255 255 255]\n",
      "  ...\n",
      "  [255 255 255]\n",
      "  [255 255 255]\n",
      "  [255 255 255]]\n",
      "\n",
      " [[255 255 255]\n",
      "  [255 255 255]\n",
      "  [255 255 255]\n",
      "  ...\n",
      "  [255 255 255]\n",
      "  [255 255 255]\n",
      "  [255 255 255]]\n",
      "\n",
      " [[255 255 255]\n",
      "  [255 255 255]\n",
      "  [255 255 255]\n",
      "  ...\n",
      "  [255 255 255]\n",
      "  [255 255 255]\n",
      "  [255 255 255]]]\n"
     ]
    }
   ],
   "source": [
    "print(img)"
   ]
  },
  {
   "cell_type": "markdown",
   "id": "05d127f4",
   "metadata": {},
   "source": [
    "##  Shape gives the dimensions of the image array"
   ]
  },
  {
   "cell_type": "code",
   "execution_count": 5,
   "id": "9859ae4e",
   "metadata": {},
   "outputs": [
    {
     "data": {
      "text/plain": [
       "(1358, 1500, 3)"
      ]
     },
     "execution_count": 5,
     "metadata": {},
     "output_type": "execute_result"
    }
   ],
   "source": [
    "img.shape\n",
    "\n",
    "# The 3D dimensions are 1358 pixel in height * 1500 0ixels wide\n",
    "# 3 means that there are 3 components (RGB) that make up this image"
   ]
  },
  {
   "cell_type": "markdown",
   "id": "969d5dd3",
   "metadata": {},
   "source": [
    "## Display the image"
   ]
  },
  {
   "cell_type": "code",
   "execution_count": 6,
   "id": "2fe0738a",
   "metadata": {},
   "outputs": [],
   "source": [
    "# TO display our image variable ,we have 'imshow'\n",
    "# The first parameter will be title show on image window\n",
    "# the second parameter is the image variable\n",
    "cv2.imshow('PM',img)\n",
    "\n",
    "# Waitkey allows us to input information when a image is open\n",
    "# By leaving it blanck it just waits for anykey to be pressed before continiuing\n",
    "# By placing number (except ,0 ), we can specify a delay for\n",
    "# How long you keep the window open(time is in milisecond here)\n",
    "cv2.waitKey(2000)\n",
    "\n",
    "# This closes all open window\n",
    "# Failure to place this will cause your program to hang\n",
    "cv2.destroyAllWindows()"
   ]
  },
  {
   "cell_type": "code",
   "execution_count": 7,
   "id": "9c7fd08c",
   "metadata": {},
   "outputs": [],
   "source": [
    "img = cv2.imread(r\"C:\\Users\\subha\\Downloads\\Modi.jpg\")\n",
    "cv2.imshow('PM',img)\n",
    "cv2.waitKey()\n",
    "cv2.destroyAllWindows()"
   ]
  },
  {
   "cell_type": "markdown",
   "id": "ad68be1b",
   "metadata": {},
   "source": [
    "##  Resize image"
   ]
  },
  {
   "cell_type": "code",
   "execution_count": 8,
   "id": "3126852a",
   "metadata": {},
   "outputs": [],
   "source": [
    "img = cv2.imread(r\"C:\\Users\\subha\\Downloads\\Modi.jpg\")\n",
    "\n",
    "resized_image = cv2.resize(img,(500,500))\n",
    "\n",
    "gray = cv2.cvtColor(resized_image, cv2.COLOR_BGR2GRAY)\n",
    "\n",
    "cv2.imshow('Modi Image',gray)\n",
    "\n",
    "cv2.waitKey()\n",
    "cv2.destroyAllWindows()"
   ]
  },
  {
   "cell_type": "code",
   "execution_count": 9,
   "id": "32823679",
   "metadata": {},
   "outputs": [
    {
     "data": {
      "text/plain": [
       "679.0"
      ]
     },
     "execution_count": 9,
     "metadata": {},
     "output_type": "execute_result"
    }
   ],
   "source": [
    "img.shape[0]*0.5"
   ]
  },
  {
   "cell_type": "code",
   "execution_count": 10,
   "id": "dfe5fd96",
   "metadata": {},
   "outputs": [
    {
     "data": {
      "text/plain": [
       "750.0"
      ]
     },
     "execution_count": 10,
     "metadata": {},
     "output_type": "execute_result"
    }
   ],
   "source": [
    "img.shape[1]*0.5"
   ]
  },
  {
   "cell_type": "markdown",
   "id": "81d18c9d",
   "metadata": {},
   "source": [
    "## "
   ]
  },
  {
   "cell_type": "raw",
   "id": "b88f05e2",
   "metadata": {},
   "source": []
  },
  {
   "cell_type": "markdown",
   "id": "a15b7db7",
   "metadata": {},
   "source": [
    "##  Face detection using HAAR Cascade classifier"
   ]
  },
  {
   "cell_type": "code",
   "execution_count": 11,
   "id": "88ecf4d3",
   "metadata": {},
   "outputs": [],
   "source": [
    "# we print opencv's Cascade classifier function to where our classifier (xml file format) is stored\n",
    "face_classifier = cv2.CascadeClassifier(r\"C:\\Users\\subha\\Downloads\\haarcascade_frontalface_default.xml\")\n",
    "\n",
    "# load our image then convert it to grayscale\n",
    "image = cv2.imread(r\"C:\\Users\\subha\\Downloads\\Modi.jpg\")\n",
    "image = cv2.resize(img,(500,500))\n",
    "gray = cv2.cvtColor(image,cv2.COLOR_BGR2GRAY)\n",
    "\n",
    "# Tuning cascade classifiers - detectmultiscale (input image,**scale factor**,**Min Neighbors**))\n",
    "faces = face_classifier.detectMultiScale(gray,1.05,5)\n",
    "\n",
    "# scale factor - specifies how much we reduce the image size each time we scale\n",
    "# E.g. in face detection we tipycally use 1.3 .this means we reduce the image by 30% each time its shape\n",
    "# smaller values, like 1.05 will take longer to compute, but will increase the rate  of detection\n",
    "\n",
    "## Min Neighbors**\n",
    "# Specifies the number of neighbors each potential window should have in order to consider it a positive detection\n",
    "# Typically set between 3-6.\n",
    "# It act sensitively setting ,low values will sometimes detect multiples faces over a single face.\n",
    "# High values will ensure less false positive ,but you may miss some faces."
   ]
  },
  {
   "cell_type": "code",
   "execution_count": 12,
   "id": "0e812e88",
   "metadata": {},
   "outputs": [
    {
     "name": "stdout",
     "output_type": "stream",
     "text": [
      "[[205  79 217 217]]\n"
     ]
    }
   ],
   "source": [
    "print(faces)"
   ]
  },
  {
   "cell_type": "code",
   "execution_count": 13,
   "id": "e4c005e2",
   "metadata": {},
   "outputs": [
    {
     "name": "stderr",
     "output_type": "stream",
     "text": [
      "<>:13: SyntaxWarning: \"is\" with a literal. Did you mean \"==\"?\n",
      "<>:13: SyntaxWarning: \"is\" with a literal. Did you mean \"==\"?\n",
      "C:\\Users\\subha\\AppData\\Local\\Temp\\ipykernel_9960\\1921228271.py:13: SyntaxWarning: \"is\" with a literal. Did you mean \"==\"?\n",
      "  if faces is():\n"
     ]
    }
   ],
   "source": [
    "face_classifier = cv2.CascadeClassifier(r\"C:\\Users\\subha\\Downloads\\haarcascade_frontalface_default.xml\")\n",
    "\n",
    "# load our image then convert it to grayscale\n",
    "image = cv2.imread(r\"C:\\Users\\subha\\Downloads\\Modi.jpg\")\n",
    "image = cv2.resize(img,(500,500))\n",
    "gray = cv2.cvtColor(image,cv2.COLOR_BGR2GRAY)\n",
    "\n",
    "\n",
    "faces = face_classifier.detectMultiScale(gray,1.05,5)\n",
    "\n",
    "\n",
    "# when no face detected , face_classifier returns and empty tuple\n",
    "if faces is():\n",
    "    print(\"No face found\")\n",
    "    \n",
    "# we iterate through our faces array and draw a rectangle\n",
    "# over each face in faces\n",
    "for (x,y,w,h) in faces:\n",
    "    cv2.rectangle(image,(x,y),(x+w,y+h),(255,0,100),1)\n",
    "# in this line (255,0,100) meand that as color BGR respectively\n",
    "\n",
    "cv2.imshow('Face Detection',image)\n",
    "cv2.waitKey(0)\n",
    "cv2.destroyAllWindows()"
   ]
  },
  {
   "cell_type": "markdown",
   "id": "c9c2fa23",
   "metadata": {},
   "source": [
    "#  Face & eye detection using HAAR CAscade Classifier in image"
   ]
  },
  {
   "cell_type": "code",
   "execution_count": 14,
   "id": "0d4a6d4d",
   "metadata": {},
   "outputs": [
    {
     "name": "stderr",
     "output_type": "stream",
     "text": [
      "<>:11: SyntaxWarning: \"is\" with a literal. Did you mean \"==\"?\n",
      "<>:11: SyntaxWarning: \"is\" with a literal. Did you mean \"==\"?\n",
      "C:\\Users\\subha\\AppData\\Local\\Temp\\ipykernel_9960\\2304791087.py:11: SyntaxWarning: \"is\" with a literal. Did you mean \"==\"?\n",
      "  if faces is ():\n"
     ]
    }
   ],
   "source": [
    "face_classifier = cv2.CascadeClassifier(r\"C:\\Users\\subha\\Downloads\\haarcascade_frontalface_default.xml\")\n",
    "eye_classifier = cv2.CascadeClassifier(r\"C:\\Users\\subha\\Downloads\\haarcascade_eye.xml\")\n",
    "\n",
    "img = cv2.imread(r\"C:\\Users\\subha\\Downloads\\Modi.jpg\")\n",
    "resized_image = cv2.resize(img,(500,500))\n",
    "gray = cv2.cvtColor(resized_image,cv2.COLOR_BGR2GRAY)\n",
    "\n",
    "faces = face_classifier.detectMultiScale(gray,1.3,5)\n",
    "\n",
    "# when no faces detected ,face_classifier returns and empty tuple\n",
    "if faces is ():\n",
    "    print(\"No Face Found\")\n",
    "    \n",
    "for (x,y,w,h) in faces:\n",
    "    cv2.rectangle(resized_image,(x,y),(x+w,y+h),(255,0,0),2)\n",
    "    roi_gray = gray[y:y+h, x:x+w]\n",
    "    roi_color = resized_image[y:y+h, x:x+w]\n",
    "    eyes = eye_classifier.detectMultiScale(roi_gray)\n",
    "    for(ex,ey,ew,eh) in eyes:\n",
    "        cv2.rectangle(roi_color,(ex,ey),(ex+ew,ey+eh),(0,255,0),2)\n",
    "cv2.imshow('img',resized_image)\n",
    "cv2.waitKey(0)\n",
    "\n",
    "cv2.destroyAllWindows()"
   ]
  },
  {
   "cell_type": "markdown",
   "id": "87f33249",
   "metadata": {},
   "source": [
    "##  Capture a video"
   ]
  },
  {
   "cell_type": "code",
   "execution_count": 15,
   "id": "607a9791",
   "metadata": {},
   "outputs": [],
   "source": [
    "# Doing some face Recognition with the webcam\n",
    "import cv2\n",
    "video = cv2.VideoCapture(0)  # 0---> webcam\n",
    "\n",
    "while True:\n",
    "    check, frame = video.read()\n",
    "    gray = cv2.cvtColor(frame,cv2.COLOR_BGR2GRAY)\n",
    "    cv2.imshow('video',gray)\n",
    "    if cv2.waitKey(1) == ord('q'):\n",
    "        break\n",
    "# to get a color video no need to define gray ,and  ('video',gray) use frame inplace of gray       \n",
    "video.release()\n",
    "cv2.destroyAllWindows()"
   ]
  },
  {
   "cell_type": "markdown",
   "id": "97067ccc",
   "metadata": {},
   "source": [
    "##  FAce Eye Detection using HAAR Cascade Classifier with video"
   ]
  },
  {
   "cell_type": "code",
   "execution_count": 16,
   "id": "e704f017",
   "metadata": {},
   "outputs": [],
   "source": [
    "# Defining a function that will do the detection\n",
    "face_cascade = cv2.CascadeClassifier(r\"C:\\Users\\subha\\Downloads\\haarcascade_frontalface_default.xml\")\n",
    "eye_cascade = cv2.CascadeClassifier(r\"C:\\Users\\subha\\Downloads\\haarcascade_eye.xml\")\n",
    "\n",
    "def detect(gray,frame):\n",
    "    faces = face_cascade.detectMultiScale(gray,1.3,5)\n",
    "    \n",
    "    for (x,y,w,h) in faces:\n",
    "        cv2.rectangle(resized_image,(x,y),(x+w,y+h),(255,0,0),2)\n",
    "        roi_gray = gray[y:y+h, x:x+w]\n",
    "        roi_color = resized_image[y:y+h, x:x+w]\n",
    "        eyes = eye_classifier.detectMultiScale(roi_gray)\n",
    "        for(ex,ey,ew,eh) in eyes:\n",
    "            cv2.rectangle(roi_color,(ex,ey),(ex+ew,ey+eh),(0,255,0),2)\n",
    "    return frame\n",
    "\n",
    "# Doing some face recognization with the webcam\n",
    "video = cv2.VideoCapture(0)  # 0---> webcam\n",
    "\n",
    "while True:\n",
    "    check, frame = video.read()\n",
    "    gray = cv2.cvtColor(frame,cv2.COLOR_BGR2GRAY)\n",
    "    canvas = detect(gray,frame)\n",
    "    cv2.imshow('video',gray)\n",
    "    if cv2.waitKey(1) == ord('q'):\n",
    "        break\n",
    "# to get a color video no need to define gray ,and  ('video',gray) use frame inplace of gray       \n",
    "video.release()\n",
    "cv2.destroyAllWindows()\n",
    "\n",
    "    \n",
    "    "
   ]
  },
  {
   "cell_type": "markdown",
   "id": "d22ab3b1",
   "metadata": {},
   "source": [
    "##  Pedistrian Detection"
   ]
  },
  {
   "cell_type": "code",
   "execution_count": 18,
   "id": "ca92aa4a",
   "metadata": {},
   "outputs": [],
   "source": [
    "import cv2\n",
    "\n",
    "# create our body classifier\n",
    "body_classifier = cv2.CascadeClassifier(r'C:\\Users\\subha\\Downloads\\haarcascade_fullbody.xml')\n",
    "\n",
    "# Intimate video capture from video file\n",
    "cap = cv2.VideoCapture(r'C:\\Users\\subha\\Downloads\\walking.avi')\n",
    "\n",
    "# loop once video is successfully loaded\n",
    "while cap.isOpened():\n",
    "    # read first frame\n",
    "    check, frame=cap.read()\n",
    "    gray = cv2.cvtColor(frame, cv2.COLOR_BGR2GRAY)\n",
    "    # pass frame to our body classifier\n",
    "    bodies = body_classifier.detectMultiScale(gray,1.2,3)\n",
    "    \n",
    "    # Extract bunding boxes for any bodies identified\n",
    "    for (x,y,w,h) in bodies:\n",
    "        cv2.rectangle(frame,(x,y),(x+w, y+h),(0,255,255),2 )\n",
    "        cv2.imshow('Pedestrians',frame)\n",
    "        \n",
    "\n",
    "    if cv2.waitKey(1)==ord('q'):\n",
    "        break\n",
    "        \n",
    "cap.release()\n",
    "cv2.destroyAllWindows()"
   ]
  },
  {
   "cell_type": "code",
   "execution_count": 20,
   "id": "6d076966",
   "metadata": {},
   "outputs": [],
   "source": [
    "import time\n",
    "\n",
    "# create our body classifier\n",
    "car_classifier = cv2.CascadeClassifier(r'C:\\Users\\subha\\Downloads\\haarcascade_car.xml')\n",
    "\n",
    "# Intimate video capture from video file\n",
    "cap = cv2.VideoCapture(r'C:\\Users\\subha\\Downloads\\cars.avi')\n",
    "\n",
    "# loop once video is successfully loaded\n",
    "while cap.isOpened():\n",
    "    time.sleep(.05)\n",
    "    \n",
    "    # read first frame\n",
    "    check, frame=cap.read()\n",
    "    gray = cv2.cvtColor(frame, cv2.COLOR_BGR2GRAY)\n",
    "    # pass frame to our body classifier\n",
    "    cars = car_classifier.detectMultiScale(gray,1.2,3)\n",
    "    \n",
    "    # Extract bunding boxes for any bodies identified\n",
    "    for (x,y,w,h) in cars:\n",
    "        cv2.rectangle(frame,(x,y),(x+w, y+h),(0,255,255),2 )\n",
    "        cv2.imshow('Cars',frame)\n",
    "        \n",
    "\n",
    "    if cv2.waitKey(1)==ord('e'):\n",
    "        break\n",
    "        \n",
    "cap.release()\n",
    "cv2.destroyAllWindows()\n"
   ]
  },
  {
   "cell_type": "code",
   "execution_count": null,
   "id": "68ecf457",
   "metadata": {},
   "outputs": [],
   "source": []
  },
  {
   "cell_type": "code",
   "execution_count": null,
   "id": "6161875f",
   "metadata": {},
   "outputs": [],
   "source": []
  }
 ],
 "metadata": {
  "kernelspec": {
   "display_name": "Python 3 (ipykernel)",
   "language": "python",
   "name": "python3"
  },
  "language_info": {
   "codemirror_mode": {
    "name": "ipython",
    "version": 3
   },
   "file_extension": ".py",
   "mimetype": "text/x-python",
   "name": "python",
   "nbconvert_exporter": "python",
   "pygments_lexer": "ipython3",
   "version": "3.11.5"
  }
 },
 "nbformat": 4,
 "nbformat_minor": 5
}
